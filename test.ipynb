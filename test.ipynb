{
 "cells": [
  {
   "cell_type": "markdown",
   "metadata": {},
   "source": [
    "### 找到plt中适合输出的中文字体"
   ]
  },
  {
   "cell_type": "code",
   "execution_count": 8,
   "metadata": {},
   "outputs": [
    {
     "name": "stdout",
     "output_type": "stream",
     "text": [
      "Error loading font: /usr/share/fonts/truetype/noto/NotoColorEmoji.ttf, skipping. Error: In FT2Font: Can not load face (unknown file format; error code 0x2)\n",
      "['Ani', 'Laksaman', 'Yrsa', 'Z003', 'Samyak Devanagari', 'Liberation Serif', 'Ubuntu', 'Liberation Sans Narrow', 'Loma', 'DejaVu Serif', 'DejaVu Serif', 'P052', 'TenaliRamakrishna', 'Liberation Sans Narrow', 'FreeMono', 'Liberation Serif', 'DejaVu Sans', 'Ubuntu', 'Sawasdee', 'Timmana', 'Nimbus Sans', 'Ubuntu Mono', 'Jamrul', 'RaviPrakash', 'Navilu', 'Abyssinica SIL', 'Noto Sans CJK JP', 'mry_KacstQurn', 'Noto Sans CJK JP', 'Rasa', 'Liberation Sans Narrow', 'Lohit Gurmukhi', 'padmaa', 'AR PL UKai CN', 'Tlwg Mono', 'DejaVu Sans', 'Samanata', 'DejaVu Sans', 'Tlwg Typewriter', 'Nimbus Mono PS', 'Dyuthi', 'Likhan', 'Chilanka', 'Lohit Assamese', 'URW Bookman', 'Ubuntu', 'Lohit Gujarati', 'Kalimati', 'Peddana', 'Gayathri', 'Liberation Sans', 'Mukti', 'KacstLetter', 'Tlwg Typist', 'Saab', 'Liberation Mono', 'Rasa', 'Tlwg Typo', 'Kalapi', 'P052', 'LKLUG', 'Suravaram', 'Liberation Sans', 'URW Bookman', 'LakkiReddy', 'Vemana2000', 'Kinnari', 'Nimbus Roman', 'Rachana', 'Laksaman', 'Waree', 'Nimbus Sans Narrow', 'D050000L', 'Tlwg Mono', 'DejaVu Sans', 'Ubuntu', 'Samyak Tamil', 'KacstQurn', 'Tlwg Typewriter', 'Pagul', 'DejaVu Sans', 'Liberation Sans', 'FreeMono', 'Mitra ', 'Manjari', 'Loma', 'URW Bookman', 'Noto Sans CJK JP', 'KacstDigital', 'Norasi', 'KacstOne', 'FreeSerif', 'DejaVu Sans', 'Liberation Serif', 'C059', 'Dhurjati', 'Umpush', 'Lohit Bengali', 'Waree', 'KacstDecorative', 'KacstScreen', 'Khmer OS', 'DejaVu Serif', 'Noto Serif CJK JP', 'DejaVu Sans Mono', 'Lohit Tamil Classical', 'DejaVu Serif', 'Ubuntu', 'Mallanna', 'Gayathri', 'Lohit Tamil', 'Pothana2000', 'Lohit Telugu', 'Sawasdee', 'Tibetan Machine Uni', 'OpenSymbol', 'Tlwg Typist', 'Tlwg Typo', 'Keraleeyam', 'URW Gothic', 'FreeSans', 'Liberation Sans', 'padmaa-Bold.1.1', 'Kinnari', 'Kinnari', 'Noto Serif CJK JP', 'Ponnala', 'C059', 'Nimbus Sans', 'Liberation Mono', 'Tlwg Typo', 'Sawasdee', 'Norasi', 'Nimbus Sans', 'Norasi', 'Noto Serif CJK JP', 'Yrsa', 'Laksaman', 'Samyak Malayalam', 'Liberation Mono', 'FreeSerif', 'Umpush', 'Liberation Sans', 'Yrsa', 'Gubbi', 'Sahadeva', 'Noto Sans CJK JP', 'Rekha', 'FreeMono', 'Norasi', 'Tlwg Typewriter', 'Rasa', 'DejaVu Math TeX Gyre', 'Ubuntu', 'Kinnari', 'P052', 'padmaa', 'FreeSans', 'Purisa', 'Nimbus Roman', 'DejaVu Sans', 'Noto Serif CJK JP', 'Ramaraja', 'Waree', 'Tlwg Typo', 'Liberation Sans Narrow', 'Tlwg Typist', 'Lohit Devanagari', 'KacstOffice', 'Liberation Mono', 'Liberation Sans', 'Nimbus Sans Narrow', 'Liberation Mono', 'Mukti', 'Gidugu', 'Tlwg Mono', 'Waree', 'Liberation Serif', 'Noto Sans CJK JP', 'Noto Sans CJK JP', 'Kinnari', 'Nimbus Mono PS', 'Liberation Serif', 'KacstPen', 'Manjari', 'KacstOne', 'Ubuntu Mono', 'Noto Serif CJK JP', 'Standard Symbols PS', 'Ubuntu', 'KacstPoster', 'C059', 'Nimbus Roman', 'FreeSerif', 'aakar', 'Yrsa', 'AnjaliOldLipi', 'Lohit Odia', 'FreeSans', 'Suruma', 'Ubuntu', 'KacstTitleL', 'Nimbus Sans Narrow', 'Umpush', 'DejaVu Sans', 'KacstArt', 'Gargi', 'Nimbus Sans Narrow', 'Sree Krushnadevaraya', 'Yrsa', 'Liberation Serif', 'Sarai', 'Umpush', 'FreeMono', 'Yrsa', 'Gurajada', 'Noto Mono', 'Meera', 'Uroob', 'Nimbus Roman', 'DejaVu Sans Mono', 'Sawasdee', 'DejaVu Sans Mono', 'Umpush', 'Garuda', 'URW Bookman', 'Tlwg Typist', 'Liberation Mono', 'Yrsa', 'Phetsarath OT', 'Rasa', 'Lohit Malayalam', 'Noto Sans Mono', 'Samyak Gujarati', 'AR PL UMing CN', 'Ubuntu', 'Tlwg Typewriter', 'Suranna', 'Purisa', 'Rasa', 'Norasi', 'Karumbi', 'Noto Serif CJK JP', 'Tlwg Mono', 'Lohit Kannada', 'Padauk Book', 'Ubuntu Mono', 'Liberation Sans', 'DejaVu Serif', 'Umpush', 'RaghuMalayalamSans', 'Purisa', 'Garuda', 'Noto Sans Mono', 'URW Gothic', 'Droid Sans Fallback', 'Garuda', 'Padauk', 'Liberation Mono', 'Ubuntu Condensed', 'Laksaman', 'URW Gothic', 'Yrsa', 'DejaVu Serif', 'Norasi', 'Rachana', 'Potti Sreeramulu', 'KacstTitle', 'Ubuntu Mono', 'Padauk', 'Liberation Serif', 'KacstFarsi', 'FreeSerif', 'ori1Uni', 'URW Gothic', 'C059', 'P052', 'Liberation Mono', 'Padauk Book', 'Mandali', 'Khmer OS System', 'DejaVu Serif', 'DejaVu Sans', 'Nimbus Mono PS', 'Nimbus Sans', 'Garuda', 'Gayathri', 'Kinnari', 'KacstBook', 'Noto Sans CJK JP', 'Liberation Sans', 'FreeSans', 'Manjari', 'Nimbus Mono PS', 'Syamala Ramana', 'Yrsa', 'NTR', 'Loma', 'DejaVu Serif', 'Noto Serif CJK JP', 'Ramabhadra', 'Chandas', 'Loma', 'DejaVu Sans Mono', 'Nakula', 'Yrsa', 'KacstNaskh', 'Purisa', 'NATS', 'Liberation Serif']\n"
     ]
    }
   ],
   "source": [
    "import matplotlib.font_manager as fm\n",
    "\n",
    "# 获取所有系统字体文件\n",
    "font_list = fm.findSystemFonts(fontpaths=None, fontext='ttf')\n",
    "\n",
    "# 初始化字体名称列表\n",
    "font_names = []\n",
    "\n",
    "# 逐一检查字体文件\n",
    "for font in font_list:\n",
    "    try:\n",
    "        # 获取字体名称\n",
    "        font_name = fm.FontProperties(fname=font).get_name()\n",
    "        font_names.append(font_name)\n",
    "    except Exception as e:\n",
    "        # 如果字体文件格式不正确，跳过它\n",
    "        print(f\"Error loading font: {font}, skipping. Error: {e}\")\n",
    "\n",
    "# 打印前10个成功加载的字体名\n",
    "print(font_names[:])"
   ]
  },
  {
   "cell_type": "code",
   "execution_count": 9,
   "metadata": {},
   "outputs": [
    {
     "name": "stdout",
     "output_type": "stream",
     "text": [
      "Font SimHei is not available.\n"
     ]
    }
   ],
   "source": [
    "# 指定字体名\n",
    "desired_font = 'SimHei'  # 例如\"黑体\"\n",
    "\n",
    "# 检查字体是否存在\n",
    "if desired_font in font_names:\n",
    "    print(f\"Font {desired_font} is available.\")\n",
    "else:\n",
    "    print(f\"Font {desired_font} is not available.\")"
   ]
  },
  {
   "cell_type": "code",
   "execution_count": 10,
   "metadata": {},
   "outputs": [
    {
     "name": "stdout",
     "output_type": "stream",
     "text": [
      "Chinese Fonts: []\n"
     ]
    }
   ],
   "source": [
    "import matplotlib.font_manager as fm\n",
    "from matplotlib.font_manager import FontProperties\n",
    "\n",
    "# 获取所有系统字体文件\n",
    "font_list = fm.findSystemFonts(fontpaths=None, fontext='ttf')\n",
    "\n",
    "# 初始化支持中文的字体列表\n",
    "chinese_fonts = []\n",
    "\n",
    "# 选取一个常见的中文字符，用来测试字体是否支持中文\n",
    "chinese_char = \"中\"\n",
    "\n",
    "# 逐一检查字体文件是否支持中文\n",
    "for font in font_list:\n",
    "    try:\n",
    "        prop = FontProperties(fname=font)\n",
    "        if prop.get_name() not in chinese_fonts:\n",
    "            # 创建一个测试用的字体对象\n",
    "            font_obj = fm.FontProperties(fname=font)\n",
    "            if font_obj.get_name() and fm.get_font(font).get_glyph(ord(chinese_char)):\n",
    "                chinese_fonts.append(font_obj.get_name())\n",
    "    except Exception as e:\n",
    "        # 跳过加载失败的字体\n",
    "        continue\n",
    "\n",
    "# 打印支持中文的字体名称\n",
    "print(\"Chinese Fonts:\", chinese_fonts)"
   ]
  }
 ],
 "metadata": {
  "kernelspec": {
   "display_name": "env_lgh_39",
   "language": "python",
   "name": "python3"
  },
  "language_info": {
   "codemirror_mode": {
    "name": "ipython",
    "version": 3
   },
   "file_extension": ".py",
   "mimetype": "text/x-python",
   "name": "python",
   "nbconvert_exporter": "python",
   "pygments_lexer": "ipython3",
   "version": "3.9.19"
  }
 },
 "nbformat": 4,
 "nbformat_minor": 2
}
